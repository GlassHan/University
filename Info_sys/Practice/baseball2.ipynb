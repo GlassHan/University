{
 "cells": [
  {
   "cell_type": "code",
   "execution_count": 2,
   "metadata": {},
   "outputs": [
    {
     "name": "stdout",
     "output_type": "stream",
     "text": [
      "숫자야구게임을 시작합니다 !!!\n",
      "---------------------------\n",
      "숫자 3자리를 입력하세요 : 123\n",
      "결과 : [ 0 ] Strike [ 0 ] Ball\n",
      "\n",
      "숫자 3자리를 입력하세요 : 456\n",
      "결과 : [ 0 ] Strike [ 2 ] Ball\n",
      "\n",
      "숫자 3자리를 입력하세요 : 756\n",
      "결과 : [ 0 ] Strike [ 2 ] Ball\n",
      "\n",
      "숫자 3자리를 입력하세요 : 568\n",
      "결과 : [ 3 ] Strike [ 0 ] Ball\n",
      "\n",
      "---------------------------\n",
      "4 번 만에 정답을 맞추셨습니다.\n"
     ]
    }
   ],
   "source": [
    " # 난수 생성을 위한 모듈 호출\n",
    "import random \n",
    "\n",
    "    # 난수 생성\n",
    "rn = [\"0\", \"0\", \"0\"]\n",
    "rn[0] = str(random.randrange(1, 9)) # random.randrange(시작, 끝, 간격[default 1])\n",
    "rn[1] = str(random.randrange(0, 9))\n",
    "rn[2] = rn[1]\n",
    "   \n",
    "\n",
    "    # 중복 제거\n",
    "while (rn[0] == rn[1]):\n",
    "    rn[1] = str(random.randrange(0, 9))\n",
    "while (rn[0] == rn[2] or rn[1] == rn[2]):\n",
    "    rn[2] = str(random.randrange(0, 9))\n",
    " \n",
    "\n",
    "    # print(rn)\n",
    "\n",
    "t_cnt = 0 # 시도횟수\n",
    "s_cnt = 0 # 스트라이크 갯수\n",
    "b_cnt = 0 # 볼 갯수\n",
    "\n",
    "print(\"숫자야구게임을 시작합니다 !!!\")\n",
    "print(\"---------------------------\")\n",
    "while ( s_cnt < 3 ): # 게임 종료 조건\n",
    "\n",
    "    s_cnt = 0\n",
    "    b_cnt = 0\n",
    "\n",
    "    num = str(input(\"숫자 3자리를 입력하세요 : \"))\n",
    "   \n",
    "\n",
    "    for i in range(0, 3):\n",
    "            for j in range(0, 3):\n",
    "                    if(num[i] == str(rn[j]) and i == j):   # 스트라이크 여부 확인\n",
    "                                    s_cnt += 1\n",
    "                    elif(num[i] == str(rn[j]) and i != j): # 볼 여부 확인\n",
    "                                    b_cnt += 1\n",
    "    print(\"결과 : [\", s_cnt, \"] Strike [\", b_cnt, \"] Ball\\n\")\n",
    "    t_cnt += 1\n",
    "\n",
    "print(\"---------------------------\")\n",
    "print(t_cnt, \"번 만에 정답을 맞추셨습니다.\")"
   ]
  },
  {
   "cell_type": "code",
   "execution_count": null,
   "metadata": {
    "collapsed": true
   },
   "outputs": [],
   "source": []
  },
  {
   "cell_type": "code",
   "execution_count": null,
   "metadata": {
    "collapsed": true
   },
   "outputs": [],
   "source": []
  }
 ],
 "metadata": {
  "kernelspec": {
   "display_name": "Python 3",
   "language": "python",
   "name": "python3"
  },
  "language_info": {
   "codemirror_mode": {
    "name": "ipython",
    "version": 3
   },
   "file_extension": ".py",
   "mimetype": "text/x-python",
   "name": "python",
   "nbconvert_exporter": "python",
   "pygments_lexer": "ipython3",
   "version": "3.6.2"
  }
 },
 "nbformat": 4,
 "nbformat_minor": 2
}
