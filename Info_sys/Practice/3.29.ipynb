{
 "cells": [
  {
   "cell_type": "code",
   "execution_count": 24,
   "id": "06a6090c",
   "metadata": {},
   "outputs": [
    {
     "name": "stdout",
     "output_type": "stream",
     "text": [
      "['red', 'orange', 'yellow', 'green', 'blue', 'dark blue', 'puple']\n"
     ]
    }
   ],
   "source": [
    "rainbow=[\"red\",\"orange\",\"yellow\",\"green\",\"blue\",\"dark blue\",\"puple\"]\n",
    "print(rainbow)"
   ]
  },
  {
   "cell_type": "code",
   "execution_count": 25,
   "id": "0a8c42ab",
   "metadata": {},
   "outputs": [
    {
     "name": "stdout",
     "output_type": "stream",
     "text": [
      "['red']\n"
     ]
    }
   ],
   "source": [
    "del(rainbow[1:7])\n",
    "print(rainbow)"
   ]
  },
  {
   "cell_type": "code",
   "execution_count": 26,
   "id": "80ab5484",
   "metadata": {},
   "outputs": [
    {
     "name": "stdout",
     "output_type": "stream",
     "text": [
      "['white', 'red', 'black']\n"
     ]
    }
   ],
   "source": [
    "rainbow.insert(0,\"white\")\n",
    "rainbow.insert(2,\"black\")\n",
    "print(rainbow)"
   ]
  },
  {
   "cell_type": "code",
   "execution_count": 27,
   "id": "7434e02a",
   "metadata": {},
   "outputs": [],
   "source": [
    "c=([1,2,3],[2,3],[5,6])"
   ]
  },
  {
   "cell_type": "code",
   "execution_count": 28,
   "id": "6a08aa15",
   "metadata": {},
   "outputs": [
    {
     "data": {
      "text/plain": [
       "([1, 2, 3], [2, 3], [5, 6])"
      ]
     },
     "execution_count": 28,
     "metadata": {},
     "output_type": "execute_result"
    }
   ],
   "source": [
    "c"
   ]
  },
  {
   "cell_type": "code",
   "execution_count": 29,
   "id": "81acc839",
   "metadata": {},
   "outputs": [
    {
     "data": {
      "text/plain": [
       "[1, 2, 3]"
      ]
     },
     "execution_count": 29,
     "metadata": {},
     "output_type": "execute_result"
    }
   ],
   "source": [
    "c[0]"
   ]
  },
  {
   "cell_type": "code",
   "execution_count": 30,
   "id": "1c262081",
   "metadata": {},
   "outputs": [],
   "source": [
    "c[0][0]=10"
   ]
  },
  {
   "cell_type": "code",
   "execution_count": 31,
   "id": "c856266f",
   "metadata": {},
   "outputs": [
    {
     "data": {
      "text/plain": [
       "([10, 2, 3], [2, 3], [5, 6])"
      ]
     },
     "execution_count": 31,
     "metadata": {},
     "output_type": "execute_result"
    }
   ],
   "source": [
    "c"
   ]
  },
  {
   "cell_type": "code",
   "execution_count": 32,
   "id": "68dc6d56",
   "metadata": {},
   "outputs": [],
   "source": [
    "dic={1:\"고양이\",2:\"개\",3:\"말\",4:\"물고기\"}"
   ]
  },
  {
   "cell_type": "code",
   "execution_count": 33,
   "id": "d836d7ed",
   "metadata": {},
   "outputs": [
    {
     "data": {
      "text/plain": [
       "'말'"
      ]
     },
     "execution_count": 33,
     "metadata": {},
     "output_type": "execute_result"
    }
   ],
   "source": [
    "dic[3]"
   ]
  },
  {
   "cell_type": "code",
   "execution_count": 34,
   "id": "087a0744",
   "metadata": {},
   "outputs": [
    {
     "data": {
      "text/plain": [
       "'고양이'"
      ]
     },
     "execution_count": 34,
     "metadata": {},
     "output_type": "execute_result"
    }
   ],
   "source": [
    "dic[1]"
   ]
  },
  {
   "cell_type": "code",
   "execution_count": 35,
   "id": "ccc45cad",
   "metadata": {},
   "outputs": [
    {
     "data": {
      "text/plain": [
       "dict_keys([1, 2, 3, 4])"
      ]
     },
     "execution_count": 35,
     "metadata": {},
     "output_type": "execute_result"
    }
   ],
   "source": [
    "dic.keys()"
   ]
  },
  {
   "cell_type": "code",
   "execution_count": 36,
   "id": "6f482ca1",
   "metadata": {},
   "outputs": [
    {
     "data": {
      "text/plain": [
       "dict_values(['고양이', '개', '말', '물고기'])"
      ]
     },
     "execution_count": 36,
     "metadata": {},
     "output_type": "execute_result"
    }
   ],
   "source": [
    "dic.values()"
   ]
  },
  {
   "cell_type": "code",
   "execution_count": 37,
   "id": "587d00d7",
   "metadata": {},
   "outputs": [
    {
     "data": {
      "text/plain": [
       "dict_items([(1, '고양이'), (2, '개'), (3, '말'), (4, '물고기')])"
      ]
     },
     "execution_count": 37,
     "metadata": {},
     "output_type": "execute_result"
    }
   ],
   "source": [
    "dic.items()"
   ]
  },
  {
   "cell_type": "code",
   "execution_count": 38,
   "id": "93fa5670",
   "metadata": {},
   "outputs": [],
   "source": [
    "dic2={\"김도현\":\"데이터마이닝\",\"박세준\":\"통계\",\"김종만\":\"신뢰성공학\",\"유우연\":\"생산계획 및 통제\"}"
   ]
  },
  {
   "cell_type": "code",
   "execution_count": 39,
   "id": "0f8ef197",
   "metadata": {},
   "outputs": [
    {
     "data": {
      "text/plain": [
       "['김도현', '김종만', '박세준', '유우연']"
      ]
     },
     "execution_count": 39,
     "metadata": {},
     "output_type": "execute_result"
    }
   ],
   "source": [
    "sorted(dic2)"
   ]
  },
  {
   "cell_type": "code",
   "execution_count": 40,
   "id": "4579937d",
   "metadata": {},
   "outputs": [],
   "source": [
    "dic3={\"professors\":[\"김도현\",\"박세준\",\"김종만\",\"유우연\"],\"course\":[\"데이터마이닝\",\"통계\",\"신뢰성공학\",\"생산계획및 통제\"]}"
   ]
  },
  {
   "cell_type": "code",
   "execution_count": 41,
   "id": "c6ac9ac2",
   "metadata": {},
   "outputs": [
    {
     "name": "stdout",
     "output_type": "stream",
     "text": [
      "[1, 2, 3, 4]\n"
     ]
    }
   ],
   "source": [
    "print(sorted(dic))"
   ]
  },
  {
   "cell_type": "code",
   "execution_count": 42,
   "id": "9c16aeb3",
   "metadata": {},
   "outputs": [
    {
     "name": "stdout",
     "output_type": "stream",
     "text": [
      "one\n",
      "two\n",
      "three\n"
     ]
    }
   ],
   "source": [
    "[1, 2, 3, 4]\n",
    "test=['one','two','three']\n",
    "for i in test:\n",
    "    print(i)"
   ]
  },
  {
   "cell_type": "code",
   "execution_count": 43,
   "id": "77497ee2",
   "metadata": {},
   "outputs": [
    {
     "name": "stdout",
     "output_type": "stream",
     "text": [
      "0\n",
      "1\n",
      "2\n",
      "3\n",
      "4\n"
     ]
    }
   ],
   "source": [
    "for i in range(5):\n",
    "    print(i)"
   ]
  },
  {
   "cell_type": "code",
   "execution_count": 45,
   "id": "083df636",
   "metadata": {},
   "outputs": [],
   "source": [
    "list=['가위','바위','보']"
   ]
  },
  {
   "cell_type": "code",
   "execution_count": 46,
   "id": "5fb31552",
   "metadata": {},
   "outputs": [
    {
     "name": "stdout",
     "output_type": "stream",
     "text": [
      "가위\n",
      "바위\n",
      "보\n"
     ]
    }
   ],
   "source": [
    "for i in list:\n",
    "    print(i)"
   ]
  },
  {
   "cell_type": "code",
   "execution_count": 47,
   "id": "76a7ff1b",
   "metadata": {},
   "outputs": [
    {
     "name": "stdout",
     "output_type": "stream",
     "text": [
      "3,4,5,6,7,8,9,10\n"
     ]
    }
   ],
   "source": [
    "list2=['3','4','5','6','7','8','9','10']\n",
    "print(','.join(list2))"
   ]
  },
  {
   "cell_type": "code",
   "execution_count": 48,
   "id": "18332ff3",
   "metadata": {},
   "outputs": [],
   "source": [
    "my_list=[0,1,2,3,4,5,6,7,8,9,10]"
   ]
  },
  {
   "cell_type": "code",
   "execution_count": 49,
   "id": "a58b68de",
   "metadata": {},
   "outputs": [
    {
     "ename": "TypeError",
     "evalue": "'list' object is not callable",
     "output_type": "error",
     "traceback": [
      "\u001b[1;31m---------------------------------------------------------------------------\u001b[0m",
      "\u001b[1;31mTypeError\u001b[0m                                 Traceback (most recent call last)",
      "Input \u001b[1;32mIn [49]\u001b[0m, in \u001b[0;36m<cell line: 1>\u001b[1;34m()\u001b[0m\n\u001b[1;32m----> 1\u001b[0m mylist1\u001b[38;5;241m=\u001b[39m\u001b[38;5;28;43mlist\u001b[39;49m\u001b[43m(\u001b[49m\u001b[38;5;124;43m\"\u001b[39;49m\u001b[38;5;124;43mabcdefg\u001b[39;49m\u001b[38;5;124;43m\"\u001b[39;49m\u001b[43m)\u001b[49m\n",
      "\u001b[1;31mTypeError\u001b[0m: 'list' object is not callable"
     ]
    }
   ],
   "source": [
    "mylist1=list(\"abcdefg\")"
   ]
  },
  {
   "cell_type": "code",
   "execution_count": 50,
   "id": "530a428e",
   "metadata": {},
   "outputs": [],
   "source": [
    "mylist2=\"kljdg  frgsjeng  ;sjen;g  sn;elrjkg\".split()"
   ]
  },
  {
   "cell_type": "code",
   "execution_count": 51,
   "id": "0c2e6747",
   "metadata": {},
   "outputs": [
    {
     "data": {
      "text/plain": [
       "['kljdg', 'frgsjeng', ';sjen;g', 'sn;elrjkg']"
      ]
     },
     "execution_count": 51,
     "metadata": {},
     "output_type": "execute_result"
    }
   ],
   "source": [
    "mylist2"
   ]
  },
  {
   "cell_type": "code",
   "execution_count": 52,
   "id": "fbaab8ce",
   "metadata": {},
   "outputs": [
    {
     "data": {
      "text/plain": [
       "['보', '남', '파', '초', '노', '주']"
      ]
     },
     "execution_count": 52,
     "metadata": {},
     "output_type": "execute_result"
    }
   ],
   "source": [
    "rainbow=[\"빨\",\"주\",\"노\",\"초\",\"파\",\"남\",\"보\"]\n",
    "rainbow[7:0:-1]"
   ]
  },
  {
   "cell_type": "code",
   "execution_count": 53,
   "id": "e14f9c4d",
   "metadata": {},
   "outputs": [
    {
     "data": {
      "text/plain": [
       "['빨', '노', '파', '보']"
      ]
     },
     "execution_count": 53,
     "metadata": {},
     "output_type": "execute_result"
    }
   ],
   "source": [
    "rainbow=[\"빨\",\"주\",\"노\",\"초\",\"파\",\"남\",\"보\"]\n",
    "rainbow[0:7:2]"
   ]
  },
  {
   "cell_type": "code",
   "execution_count": 54,
   "id": "47dacf26",
   "metadata": {},
   "outputs": [
    {
     "name": "stdout",
     "output_type": "stream",
     "text": [
      "빨/주/노/초/파/남/보\n"
     ]
    }
   ],
   "source": [
    "rainbow=[\"빨\",\"주\",\"노\",\"초\",\"파\",\"남\",\"보\"]\n",
    "print('/'.join(rainbow))"
   ]
  }
 ],
 "metadata": {
  "kernelspec": {
   "display_name": "Python 3 (ipykernel)",
   "language": "python",
   "name": "python3"
  },
  "language_info": {
   "codemirror_mode": {
    "name": "ipython",
    "version": 3
   },
   "file_extension": ".py",
   "mimetype": "text/x-python",
   "name": "python",
   "nbconvert_exporter": "python",
   "pygments_lexer": "ipython3",
   "version": "3.9.12"
  }
 },
 "nbformat": 4,
 "nbformat_minor": 5
}
