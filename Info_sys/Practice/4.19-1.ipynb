{
 "cells": [
  {
   "cell_type": "code",
   "execution_count": 1,
   "id": "14426b6a",
   "metadata": {},
   "outputs": [],
   "source": [
    "class Animal():\n",
    "    def walk(self):\n",
    "        print(\"걷는다.\")\n",
    "    def eat(self):\n",
    "        print(\"먹는다.\")\n",
    "\n",
    "class Human(Animal):\n",
    "    def wave(self):\n",
    "        print(\"손을 흔든다.\")\n",
    "        \n",
    "class Dog(Animal):\n",
    "    def wag(self):\n",
    "        print(\"꼬리를 흔든다.\")"
   ]
  },
  {
   "cell_type": "code",
   "execution_count": 2,
   "id": "5c893e15",
   "metadata": {},
   "outputs": [],
   "source": [
    "person=Human()"
   ]
  },
  {
   "cell_type": "code",
   "execution_count": 3,
   "id": "57573510",
   "metadata": {},
   "outputs": [
    {
     "name": "stdout",
     "output_type": "stream",
     "text": [
      "걷는다.\n"
     ]
    }
   ],
   "source": [
    "person.walk()"
   ]
  },
  {
   "cell_type": "code",
   "execution_count": 4,
   "id": "332e76f7",
   "metadata": {},
   "outputs": [
    {
     "name": "stdout",
     "output_type": "stream",
     "text": [
      "먹는다.\n"
     ]
    }
   ],
   "source": [
    "person.eat()"
   ]
  },
  {
   "cell_type": "code",
   "execution_count": 5,
   "id": "99f5e357",
   "metadata": {},
   "outputs": [],
   "source": [
    "dog=Dog()"
   ]
  },
  {
   "cell_type": "code",
   "execution_count": 6,
   "id": "fd055b7b",
   "metadata": {},
   "outputs": [
    {
     "name": "stdout",
     "output_type": "stream",
     "text": [
      "걷는다.\n"
     ]
    }
   ],
   "source": [
    "dog.walk()"
   ]
  },
  {
   "cell_type": "code",
   "execution_count": 7,
   "id": "3ce4a4df",
   "metadata": {},
   "outputs": [
    {
     "name": "stdout",
     "output_type": "stream",
     "text": [
      "먹는다.\n"
     ]
    }
   ],
   "source": [
    "dog.eat()"
   ]
  },
  {
   "cell_type": "code",
   "execution_count": 8,
   "id": "5e16c575",
   "metadata": {},
   "outputs": [],
   "source": [
    "class Animal():\n",
    "    def greet(self):\n",
    "        print(\"인사한다.\")\n",
    "   \n",
    "class Human(Animal):\n",
    "    def greet(self):\n",
    "        print(\"손을 흔든다.\")\n",
    "        \n",
    "class Dog(Animal):\n",
    "    def greet(self):\n",
    "        print(\"꼬리를 흔든다.\")"
   ]
  },
  {
   "cell_type": "code",
   "execution_count": 9,
   "id": "4cb364d1",
   "metadata": {},
   "outputs": [],
   "source": [
    "person=Human()"
   ]
  },
  {
   "cell_type": "code",
   "execution_count": 10,
   "id": "fa307220",
   "metadata": {},
   "outputs": [
    {
     "name": "stdout",
     "output_type": "stream",
     "text": [
      "손을 흔든다.\n"
     ]
    }
   ],
   "source": [
    "person.greet()"
   ]
  },
  {
   "cell_type": "code",
   "execution_count": 11,
   "id": "c4623b6b",
   "metadata": {},
   "outputs": [],
   "source": [
    "dog=Dog()"
   ]
  },
  {
   "cell_type": "code",
   "execution_count": 12,
   "id": "6a4e9f3b",
   "metadata": {},
   "outputs": [
    {
     "name": "stdout",
     "output_type": "stream",
     "text": [
      "꼬리를 흔든다.\n"
     ]
    }
   ],
   "source": [
    "dog.greet()"
   ]
  },
  {
   "cell_type": "code",
   "execution_count": 13,
   "id": "e17ed6b0",
   "metadata": {},
   "outputs": [],
   "source": [
    "class Animal():\n",
    "    def greet(self):\n",
    "        print(\"인사하여.\")\n",
    "   \n",
    "class Human(Animal):\n",
    "    def greet(self):\n",
    "        super().greet()\n",
    "        print(\"손을 흔든다.\")\n",
    "        \n",
    "class Dog(Animal):\n",
    "    def greet(self):\n",
    "        super().greet()\n",
    "        print(\"꼬리를 흔든다.\")"
   ]
  },
  {
   "cell_type": "code",
   "execution_count": 14,
   "id": "237d1201",
   "metadata": {},
   "outputs": [],
   "source": [
    "person=Human()"
   ]
  },
  {
   "cell_type": "code",
   "execution_count": 15,
   "id": "85d13c00",
   "metadata": {},
   "outputs": [
    {
     "name": "stdout",
     "output_type": "stream",
     "text": [
      "인사하여.\n",
      "손을 흔든다.\n"
     ]
    }
   ],
   "source": [
    "person.greet()"
   ]
  },
  {
   "cell_type": "code",
   "execution_count": 16,
   "id": "fce69015",
   "metadata": {},
   "outputs": [],
   "source": [
    "dog=Dog()"
   ]
  },
  {
   "cell_type": "code",
   "execution_count": 17,
   "id": "5a291d77",
   "metadata": {},
   "outputs": [
    {
     "name": "stdout",
     "output_type": "stream",
     "text": [
      "인사하여.\n",
      "꼬리를 흔든다.\n"
     ]
    }
   ],
   "source": [
    "dog.greet()"
   ]
  },
  {
   "cell_type": "code",
   "execution_count": 18,
   "id": "0e9864cf",
   "metadata": {},
   "outputs": [],
   "source": [
    "class Car():\n",
    "    def run(self):\n",
    "        print(\"차가 달니다.\")\n",
    "        \n",
    "class Truck(Car):\n",
    "    def load(self):\n",
    "        print(\"짐을 실었습니다.\")\n",
    "    def run(self):\n",
    "        print(\"트럭이 달립니다.\")"
   ]
  },
  {
   "cell_type": "code",
   "execution_count": 19,
   "id": "2794be6b",
   "metadata": {},
   "outputs": [
    {
     "name": "stdout",
     "output_type": "stream",
     "text": [
      "트럭이 달립니다.\n"
     ]
    }
   ],
   "source": [
    "truck=Truck()\n",
    "truck.run()"
   ]
  },
  {
   "cell_type": "code",
   "execution_count": 25,
   "id": "1d081541",
   "metadata": {},
   "outputs": [],
   "source": [
    "from tkinter import*\n",
    "\n",
    "def click():\n",
    "    entered_text=entry.get()\n",
    "\n",
    "    \n",
    "    \n",
    "window=Tk()\n",
    "window.title(\"my coding club glossry\")\n",
    "\n",
    "Label(window, text=\"정의되어 있는 단어를 입력하고 엔터 키를 누르세요:\").grid(row=0, column=0, sticky=W)\n",
    "\n",
    "entry=Entry(window, width=20,bg=\"light green\")\n",
    "entry.grid(row=1, column=0, sticky=W)\n",
    "\n",
    "Button(window, text=\"제출\", width=5, command=click). grid(row=2, column=0, sticky=W)\n",
    "\n",
    "Label(window, text=\"Wn 정의\").grid(row=3, column=0, sticky=W)\n",
    "\n",
    "output=Text(window, width=75, height=6,wrap=WORD, background=\"light green\")\n",
    "output.grid(row=4, column=0, columnspan=1,sticky=W)\n",
    "\n",
    "my_glossary={\n",
    "    '알고리즘' : '컴퓨터로 작업을 수행하기 위해 컴퓨터가 이해할 수 있도록 단계별로 설명해 놓은 것',\n",
    "    '인수' : '작업을 수행할 수 있는 함수에 의해 요구되는 정보의 조각, 보통 문자 또는 숫자가 사용되며 my_function(인수)와 같이 사용합니다.',\n",
    "    '2진수' : '2진법으로 타나낸 숫자'\n",
    "}\n",
    "\n",
    "window.mainloop()\n",
    " "
   ]
  },
  {
   "cell_type": "code",
   "execution_count": null,
   "id": "93e1360f",
   "metadata": {},
   "outputs": [],
   "source": []
  }
 ],
 "metadata": {
  "kernelspec": {
   "display_name": "Python 3 (ipykernel)",
   "language": "python",
   "name": "python3"
  },
  "language_info": {
   "codemirror_mode": {
    "name": "ipython",
    "version": 3
   },
   "file_extension": ".py",
   "mimetype": "text/x-python",
   "name": "python",
   "nbconvert_exporter": "python",
   "pygments_lexer": "ipython3",
   "version": "3.9.12"
  }
 },
 "nbformat": 4,
 "nbformat_minor": 5
}
