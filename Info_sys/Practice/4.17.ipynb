{
 "cells": [
  {
   "cell_type": "code",
   "execution_count": 1,
   "id": "d90df572",
   "metadata": {},
   "outputs": [
    {
     "name": "stdout",
     "output_type": "stream",
     "text": [
      "Writing my_module.py\n"
     ]
    }
   ],
   "source": [
    "%%file my_module.py\n",
    "def random_rsp():\n",
    "    import random\n",
    "    return random.choice(['가위','바위','보'])\n",
    "rock='바위'\n",
    "scissors='가위'\n",
    "paper='보'\n",
    "if __name__=='__main__': #해당 파일이 자체적으로 실행될 때만 아래부분 실행\n",
    "    print('자체실행')"
   ]
  },
  {
   "cell_type": "code",
   "execution_count": 2,
   "id": "1f78de4e",
   "metadata": {},
   "outputs": [
    {
     "data": {
      "text/plain": [
       "'가위'"
      ]
     },
     "execution_count": 2,
     "metadata": {},
     "output_type": "execute_result"
    }
   ],
   "source": [
    "import my_module\n",
    "my_module.random_rsp()"
   ]
  },
  {
   "cell_type": "code",
   "execution_count": 3,
   "id": "0cb59ae1",
   "metadata": {},
   "outputs": [
    {
     "name": "stdout",
     "output_type": "stream",
     "text": [
      "바위\n"
     ]
    }
   ],
   "source": [
    "print(my_module.rock)"
   ]
  },
  {
   "cell_type": "code",
   "execution_count": 4,
   "id": "7fac711a",
   "metadata": {},
   "outputs": [
    {
     "name": "stdout",
     "output_type": "stream",
     "text": [
      "파이의 값은( 3.141592653589793 )입니다\n"
     ]
    }
   ],
   "source": [
    "import math\n",
    "\n",
    "print(\"파이의 값은(\",math.pi,\")입니다\")"
   ]
  },
  {
   "cell_type": "code",
   "execution_count": 5,
   "id": "ee0f615f",
   "metadata": {},
   "outputs": [
    {
     "name": "stdout",
     "output_type": "stream",
     "text": [
      "Writing new.py\n"
     ]
    }
   ],
   "source": [
    "%%file new.py\n",
    "mynumberlist=[1,2,3,4,5]\n",
    "def pickone():\n",
    "    import random\n",
    "    return random.choice(mynumberlist)"
   ]
  },
  {
   "cell_type": "code",
   "execution_count": 6,
   "id": "1d3fd093",
   "metadata": {},
   "outputs": [
    {
     "data": {
      "text/plain": [
       "5"
      ]
     },
     "execution_count": 6,
     "metadata": {},
     "output_type": "execute_result"
    }
   ],
   "source": [
    "import new\n",
    "new.pickone()"
   ]
  },
  {
   "cell_type": "code",
   "execution_count": 7,
   "id": "48ff393d",
   "metadata": {},
   "outputs": [],
   "source": [
    "class Human():\n",
    "    def __init__(self,name1,weight1):\n",
    "        self.name=name1\n",
    "        self.weight=weight1"
   ]
  },
  {
   "cell_type": "code",
   "execution_count": 8,
   "id": "e579176f",
   "metadata": {},
   "outputs": [
    {
     "name": "stdout",
     "output_type": "stream",
     "text": [
      "김도현 80\n"
     ]
    }
   ],
   "source": [
    "kimdohyun=Human(\"김도현\",80)\n",
    "print(kimdohyun.name,kimdohyun.weight)"
   ]
  },
  {
   "cell_type": "code",
   "execution_count": 9,
   "id": "df5aa67b",
   "metadata": {},
   "outputs": [],
   "source": [
    "class Human1():\n",
    "    def __init__(self,name1,weight1):\n",
    "        self.name=name1\n",
    "        self.weight=weight1\n",
    "    \n",
    "    def __str__(self):\n",
    "        return(\"생성된 사람은 %s이고, 몸무게는 %s입니다.\"%(self.name,self.weight))"
   ]
  },
  {
   "cell_type": "code",
   "execution_count": 10,
   "id": "bf955041",
   "metadata": {},
   "outputs": [
    {
     "name": "stdout",
     "output_type": "stream",
     "text": [
      "생성된 사람은 김도현이고, 몸무게는 60.5입니다.\n"
     ]
    }
   ],
   "source": [
    "kimdohyun=Human1('김도현',60.5)\n",
    "print(kimdohyun)"
   ]
  },
  {
   "cell_type": "code",
   "execution_count": 11,
   "id": "86129d9a",
   "metadata": {},
   "outputs": [],
   "source": [
    "class Lecture():\n",
    "    def __init__(self,class_name,class_teacher):\n",
    "        self.name=class_name\n",
    "        self.teacher=class_teacher\n",
    "    def __str__(self):\n",
    "        return(\"%s 과목의 강사는 %s입니다.\"%(self.name,self.teacher))"
   ]
  },
  {
   "cell_type": "code",
   "execution_count": 12,
   "id": "b996254d",
   "metadata": {},
   "outputs": [
    {
     "name": "stdout",
     "output_type": "stream",
     "text": [
      "정보 과목의 강사는 김도현입니다.\n"
     ]
    }
   ],
   "source": [
    "infosystem=Lecture(\"정보\",\"김도현\")\n",
    "print(infosystem)"
   ]
  },
  {
   "cell_type": "code",
   "execution_count": null,
   "id": "c83dfeff",
   "metadata": {},
   "outputs": [],
   "source": []
  }
 ],
 "metadata": {
  "kernelspec": {
   "display_name": "Python 3 (ipykernel)",
   "language": "python",
   "name": "python3"
  },
  "language_info": {
   "codemirror_mode": {
    "name": "ipython",
    "version": 3
   },
   "file_extension": ".py",
   "mimetype": "text/x-python",
   "name": "python",
   "nbconvert_exporter": "python",
   "pygments_lexer": "ipython3",
   "version": "3.9.12"
  }
 },
 "nbformat": 4,
 "nbformat_minor": 5
}
