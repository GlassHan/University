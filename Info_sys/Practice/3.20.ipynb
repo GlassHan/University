{
 "cells": [
  {
   "cell_type": "code",
   "execution_count": 1,
   "id": "2471dd3b",
   "metadata": {},
   "outputs": [],
   "source": [
    "def count(number):\n",
    "    n=1\n",
    "    while n<=number:\n",
    "        print(n)\n",
    "        n=n+1"
   ]
  },
  {
   "cell_type": "code",
   "execution_count": 2,
   "id": "46193e5d",
   "metadata": {},
   "outputs": [
    {
     "name": "stdout",
     "output_type": "stream",
     "text": [
      "1\n",
      "2\n",
      "3\n",
      "4\n",
      "5\n"
     ]
    }
   ],
   "source": [
    "count(5)"
   ]
  },
  {
   "cell_type": "code",
   "execution_count": 3,
   "id": "08f67efa",
   "metadata": {},
   "outputs": [],
   "source": [
    "def times_tables(num):\n",
    "    n=1\n",
    "    while n<=10:\n",
    "        print(\"%s X %s = %s\" %(num,n,num*n))\n",
    "        n=n+1"
   ]
  },
  {
   "cell_type": "code",
   "execution_count": 4,
   "id": "b6452eec",
   "metadata": {},
   "outputs": [
    {
     "name": "stdout",
     "output_type": "stream",
     "text": [
      "12 X 1 = 12\n",
      "12 X 2 = 24\n",
      "12 X 3 = 36\n",
      "12 X 4 = 48\n",
      "12 X 5 = 60\n",
      "12 X 6 = 72\n",
      "12 X 7 = 84\n",
      "12 X 8 = 96\n",
      "12 X 9 = 108\n",
      "12 X 10 = 120\n"
     ]
    }
   ],
   "source": [
    "times_tables(12)"
   ]
  },
  {
   "cell_type": "code",
   "execution_count": 5,
   "id": "201d16a8",
   "metadata": {},
   "outputs": [],
   "source": [
    "def times_tables2(how_far,num):\n",
    "    n=1\n",
    "    while n<=how_far:\n",
    "        print(\"%s X %s = %s\" %(num,n,num*n))\n",
    "        n=n+1"
   ]
  },
  {
   "cell_type": "code",
   "execution_count": 6,
   "id": "d5d79639",
   "metadata": {},
   "outputs": [
    {
     "name": "stdout",
     "output_type": "stream",
     "text": [
      "17 X 1 = 17\n",
      "17 X 2 = 34\n",
      "17 X 3 = 51\n",
      "17 X 4 = 68\n",
      "17 X 5 = 85\n",
      "17 X 6 = 102\n",
      "17 X 7 = 119\n",
      "17 X 8 = 136\n",
      "17 X 9 = 153\n",
      "17 X 10 = 170\n",
      "17 X 11 = 187\n",
      "17 X 12 = 204\n"
     ]
    }
   ],
   "source": [
    "times_tables2(12,17)"
   ]
  },
  {
   "cell_type": "code",
   "execution_count": 7,
   "id": "92eb9269",
   "metadata": {},
   "outputs": [
    {
     "name": "stdout",
     "output_type": "stream",
     "text": [
      "몇단을 출력할까요?\n",
      "5\n",
      "어디까지 출력 할까요?\n",
      "9\n",
      "5 X 1 = 5\n",
      "5 X 2 = 10\n",
      "5 X 3 = 15\n",
      "5 X 4 = 20\n",
      "5 X 5 = 25\n",
      "5 X 6 = 30\n",
      "5 X 7 = 35\n",
      "5 X 8 = 40\n",
      "5 X 9 = 45\n"
     ]
    }
   ],
   "source": [
    "num=int(input(\"몇단을 출력할까요?\\n\"))\n",
    "how_far=int(input(\"어디까지 출력 할까요?\\n\"))\n",
    "def times_tables3(how_far,num):    \n",
    "    n=1\n",
    "    while n<=how_far:\n",
    "        print(\"%s X %s = %s\" %(num,n,num*n))\n",
    "        n=n+1\n",
    "times_tables3(how_far,num)"
   ]
  },
  {
   "cell_type": "code",
   "execution_count": 8,
   "id": "77265f37",
   "metadata": {},
   "outputs": [
    {
     "name": "stdout",
     "output_type": "stream",
     "text": [
      "안녕!\n",
      " 난 1부터 100 중 숫자 하나를 골랐어요!\n",
      "뭔지 쓰고 엔터 키를 누르세요.44\n",
      "그것 보단 낮습니다. 다시 생각해보세요.66\n",
      "그것 보단 낮습니다. 다시 생각해보세요.22\n",
      "그것 보단 낮습니다. 다시 생각해보세요.11\n",
      "그것 보단 높습니다. 다시 생각해보세요.12\n",
      "그것 보단 높습니다. 다시 생각해보세요.15\n",
      "그것 보단 높습니다. 다시 생각해보세요.16\n",
      "그것 보단 높습니다. 다시 생각해보세요.17\n",
      "그것 보단 높습니다. 다시 생각해보세요.20\n",
      "9\n",
      "정답!\n",
      "잘했어요! \n",
      "\n",
      "\n",
      "마치려면 엔터 키를 누르세요!\n"
     ]
    },
    {
     "data": {
      "text/plain": [
       "''"
      ]
     },
     "execution_count": 8,
     "metadata": {},
     "output_type": "execute_result"
    }
   ],
   "source": [
    "import random\n",
    "\n",
    "#숫자고르기\n",
    "computer_number=random.randint(1,100)\n",
    "\n",
    "#is_same()함수\n",
    "def is_same(target,number):\n",
    "    if target == number:\n",
    "        result=\"win\"\n",
    "    elif target > number:\n",
    "        result=\"low\"\n",
    "    else:\n",
    "        result=\"high\"\n",
    "    return result\n",
    "\n",
    "#게임시작\n",
    "print(\"안녕!\\n 난 1부터 100 중 숫자 하나를 골랐어요!\")\n",
    "\n",
    "#추측한 숫자 인수 변환\n",
    "guess=int(input(\"뭔지 쓰고 엔터 키를 누르세요.\"))\n",
    "\n",
    "#in_smae()함수 사용\n",
    "h_o_l=is_same(computer_number,guess)\n",
    "\n",
    "\n",
    "\n",
    "#게임 계속\n",
    "n=1\n",
    "while h_o_l != \"win\":\n",
    "    if h_o_l == \"low\":\n",
    "        guess=int(input(\"그것 보단 높습니다. 다시 생각해보세요.\"))\n",
    "        n=n+1\n",
    "    else:\n",
    "        guess=int(input(\"그것 보단 낮습니다. 다시 생각해보세요.\"))\n",
    "        n=n+1\n",
    "        \n",
    "    h_o_l=is_same(computer_number,guess)\n",
    "    \n",
    "    \n",
    "#끝\n",
    "print(n)\n",
    "input(\"정답!\\n잘했어요! \\n\\n\\n마치려면 엔터 키를 누르세요!\")"
   ]
  },
  {
   "cell_type": "code",
   "execution_count": null,
   "id": "9d56e291",
   "metadata": {},
   "outputs": [],
   "source": []
  }
 ],
 "metadata": {
  "kernelspec": {
   "display_name": "Python 3 (ipykernel)",
   "language": "python",
   "name": "python3"
  },
  "language_info": {
   "codemirror_mode": {
    "name": "ipython",
    "version": 3
   },
   "file_extension": ".py",
   "mimetype": "text/x-python",
   "name": "python",
   "nbconvert_exporter": "python",
   "pygments_lexer": "ipython3",
   "version": "3.9.12"
  }
 },
 "nbformat": 4,
 "nbformat_minor": 5
}
