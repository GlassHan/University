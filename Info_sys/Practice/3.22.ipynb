{
 "cells": [
  {
   "cell_type": "code",
   "execution_count": 1,
   "id": "848ce3d7",
   "metadata": {},
   "outputs": [],
   "source": [
    "def a():\n",
    "    print(5*7)\n",
    "def b(x,y):\n",
    "    print(x*y)\n",
    "def c():\n",
    "    return(5*7)\n",
    "def d(x,y):\n",
    "    return(x*y)"
   ]
  },
  {
   "cell_type": "code",
   "execution_count": 2,
   "id": "89983e66",
   "metadata": {},
   "outputs": [
    {
     "name": "stdout",
     "output_type": "stream",
     "text": [
      "35\n",
      "35\n",
      "35\n",
      "35\n",
      "35\n"
     ]
    }
   ],
   "source": [
    "a()\n",
    "b(5,7)\n",
    "b(x=5,y=7)\n",
    "print(c())\n",
    "print(d(5,7))"
   ]
  },
  {
   "cell_type": "code",
   "execution_count": 3,
   "id": "bd0b800e",
   "metadata": {},
   "outputs": [],
   "source": [
    "a=5\n",
    "b=7\n",
    "total=0\n",
    "\n",
    "def cal(x,y):\n",
    "    total=x+y\n",
    "    print(\"a\",a,\"b:\",b,\"a+b\",a+b,\"total:\",total)\n",
    "    return total"
   ]
  },
  {
   "cell_type": "code",
   "execution_count": 4,
   "id": "cbc8b8c9",
   "metadata": {},
   "outputs": [
    {
     "name": "stdout",
     "output_type": "stream",
     "text": [
      "a 5 b: 7 a+b 12 total: 0\n"
     ]
    }
   ],
   "source": [
    "print(\"a\",a,\"b:\",b,\"a+b\",a+b,\"total:\",total)"
   ]
  },
  {
   "cell_type": "code",
   "execution_count": 5,
   "id": "c94ae5fb",
   "metadata": {},
   "outputs": [
    {
     "name": "stdout",
     "output_type": "stream",
     "text": [
      "a 5 b: 7 a+b 12 total: 12\n"
     ]
    }
   ],
   "source": [
    "sum=cal(a,b)"
   ]
  },
  {
   "cell_type": "code",
   "execution_count": 6,
   "id": "6b7c22c9",
   "metadata": {},
   "outputs": [
    {
     "name": "stdout",
     "output_type": "stream",
     "text": [
      "total: 0 sum: 12\n"
     ]
    }
   ],
   "source": [
    "print(\"total:\",total,\"sum:\",sum)"
   ]
  },
  {
   "cell_type": "code",
   "execution_count": 7,
   "id": "5eb25ebc",
   "metadata": {},
   "outputs": [],
   "source": [
    "def cal2(x,y):\n",
    "    global total\n",
    "    total=x+y\n",
    "    print(\"a\",a,\"b:\",b,\"a+b\",a+b,\"total:\",total)\n",
    "    return total"
   ]
  },
  {
   "cell_type": "code",
   "execution_count": 8,
   "id": "cbcf9994",
   "metadata": {},
   "outputs": [
    {
     "name": "stdout",
     "output_type": "stream",
     "text": [
      "a 5 b: 7 a+b 12 total: 0\n"
     ]
    }
   ],
   "source": [
    "print(\"a\",a,\"b:\",b,\"a+b\",a+b,\"total:\",total)"
   ]
  },
  {
   "cell_type": "code",
   "execution_count": 9,
   "id": "25ba2e88",
   "metadata": {},
   "outputs": [
    {
     "name": "stdout",
     "output_type": "stream",
     "text": [
      "a 5 b: 7 a+b 12 total: 12\n"
     ]
    }
   ],
   "source": [
    "sum=cal2(a,b)"
   ]
  },
  {
   "cell_type": "code",
   "execution_count": 10,
   "id": "3de29ed8",
   "metadata": {},
   "outputs": [
    {
     "name": "stdout",
     "output_type": "stream",
     "text": [
      "total 12 sum 12\n"
     ]
    }
   ],
   "source": [
    "print(\"total\",total,\"sum\",sum)"
   ]
  },
  {
   "cell_type": "code",
   "execution_count": 12,
   "id": "1ead77ce",
   "metadata": {},
   "outputs": [],
   "source": [
    "# mes\n",
    "\n",
    "from tkinter import *\n",
    "\n",
    "#### 변수 설정:\n",
    "c_h=400\n",
    "c_w=600\n",
    "c_c=\"black\"\n",
    "\n",
    "p1_x=c_w/2\n",
    "p1_y=c_h/2\n",
    "p1_colour=\"green\"\n",
    "\n",
    "line_width=5\n",
    "line_length=5\n",
    "\n",
    "#콘트롤\n",
    "def p1_move_N(event):\n",
    "    global p1_y\n",
    "    canvas.create_line(p1_x,p1_y,p1_x,(p1_y-line_length),width=line_width,fill=p1_colour)\n",
    "    p1_y=p1_y-line_length\n",
    "\n",
    "def p2_move_N(event):\n",
    "    global p1_y\n",
    "    canvas.create_line(p1_x,p1_y,p1_x,(p1_y+line_length),width=line_width,fill=p1_colour)\n",
    "    p1_y=p1_y+line_length\n",
    "\n",
    "def p3_move_N(event):\n",
    "    global p1_x\n",
    "    canvas.create_line(p1_x,p1_y,(p1_x-line_length),p1_y,width=line_width,fill=p1_colour)\n",
    "    p1_x=p1_x-line_length\n",
    "    \n",
    "def p4_move_N(event):\n",
    "    global p1_x\n",
    "    canvas.create_line(p1_x,p1_y,(p1_x+line_length),p1_y,width=line_width,fill=p1_colour)\n",
    "    p1_x=p1_x+line_length    \n",
    "    \n",
    "#### 메인:\n",
    "window=Tk()\n",
    "window.title(\"mes\")\n",
    "canvas=Canvas(bg=c_c,height=c_h,width=c_w,highlightthickness=0)\n",
    "canvas.pack()\n",
    "\n",
    "#키를 눌렀을때\n",
    "window.bind(\"<Up>\",p1_move_N)\n",
    "window.bind(\"<Down>\",p2_move_N)\n",
    "window.bind(\"<Right>\",p4_move_N)\n",
    "window.bind(\"<Left>\",p3_move_N)\n",
    "window.mainloop()"
   ]
  },
  {
   "cell_type": "code",
   "execution_count": null,
   "id": "6ac8e2b8",
   "metadata": {},
   "outputs": [],
   "source": []
  }
 ],
 "metadata": {
  "kernelspec": {
   "display_name": "Python 3 (ipykernel)",
   "language": "python",
   "name": "python3"
  },
  "language_info": {
   "codemirror_mode": {
    "name": "ipython",
    "version": 3
   },
   "file_extension": ".py",
   "mimetype": "text/x-python",
   "name": "python",
   "nbconvert_exporter": "python",
   "pygments_lexer": "ipython3",
   "version": "3.9.12"
  }
 },
 "nbformat": 4,
 "nbformat_minor": 5
}
