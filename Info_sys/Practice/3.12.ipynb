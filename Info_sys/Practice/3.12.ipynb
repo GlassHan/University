{
 "cells": [
  {
   "cell_type": "code",
   "execution_count": 1,
   "id": "bb832a3c",
   "metadata": {},
   "outputs": [
    {
     "name": "stdout",
     "output_type": "stream",
     "text": [
      "question : what goes clip?\n",
      "Answer : A one legged horse.\n",
      "question : what goes clip?\tAnswer : A one legged horse.\n",
      "question : what goes clip?\\Answer : A one legged horse.\n",
      "question : what goes clip?\"Answer : A one legged horse.\n"
     ]
    }
   ],
   "source": [
    "print(\"question : what goes clip?\\nAnswer : A one legged horse.\") \n",
    "print(\"question : what goes clip?\\tAnswer : A one legged horse.\")\n",
    "print(\"question : what goes clip?\\\\Answer : A one legged horse.\")\n",
    "print(\"question : what goes clip?\\\"Answer : A one legged horse.\")"
   ]
  },
  {
   "cell_type": "code",
   "execution_count": 2,
   "id": "31400e7d",
   "metadata": {},
   "outputs": [
    {
     "name": "stdout",
     "output_type": "stream",
     "text": [
      "1+2+3+4+5 는  15 입니다\n",
      "1+2+3+4+5 는 15 입니다.\n"
     ]
    }
   ],
   "source": [
    "print(\"1+2+3+4+5 는 \",1+2+3+4+5,\"입니다\")\n",
    "print(\"1+2+3+4+5 는 %d 입니다.\"%(1+2+3+4+5))"
   ]
  },
  {
   "cell_type": "code",
   "execution_count": 3,
   "id": "edf96efc",
   "metadata": {},
   "outputs": [
    {
     "name": "stdout",
     "output_type": "stream",
     "text": [
      "3\n",
      "3.3333333333333335\n",
      "1\n"
     ]
    }
   ],
   "source": [
    "print(10//3)\n",
    "print(10/3)\n",
    "print(10%3)"
   ]
  },
  {
   "cell_type": "code",
   "execution_count": 4,
   "id": "55841d1f",
   "metadata": {},
   "outputs": [
    {
     "name": "stdout",
     "output_type": "stream",
     "text": [
      "10/3 는 3 입니다.\n",
      "10/3 는 3.333333 입니다.\n",
      "10/3 는 3.333 입니다.\n"
     ]
    }
   ],
   "source": [
    "print(\"10/3 는 %d 입니다.\"%(10/3))\n",
    "print(\"10/3 는 %f 입니다.\"%(10/3))\n",
    "print(\"10/3 는 %.3f 입니다.\"%(10/3))"
   ]
  },
  {
   "cell_type": "code",
   "execution_count": 5,
   "id": "1b15b998",
   "metadata": {},
   "outputs": [
    {
     "name": "stdout",
     "output_type": "stream",
     "text": [
      "나는 나비 입니다.\n",
      "나는 나비 입니다.\n",
      "나는 나비 입니다.\n",
      "나는 나비 입니다.\n",
      "나는 나비 입니다.\n",
      "\n"
     ]
    }
   ],
   "source": [
    "print(\"나는 나비 입니다.\\n\"*5)"
   ]
  },
  {
   "cell_type": "code",
   "execution_count": 6,
   "id": "f2999396",
   "metadata": {},
   "outputs": [
    {
     "name": "stdout",
     "output_type": "stream",
     "text": [
      "나는 수업 시간에 프로그래밍을 하지 않겠습니다.\n",
      "나는 수업 시간에 프로그래밍을 하지 않겠습니다.\n",
      "나는 수업 시간에 프로그래밍을 하지 않겠습니다.\n",
      "나는 수업 시간에 프로그래밍을 하지 않겠습니다.\n",
      "나는 수업 시간에 프로그래밍을 하지 않겠습니다.\n",
      "나는 수업 시간에 프로그래밍을 하지 않겠습니다.\n",
      "나는 수업 시간에 프로그래밍을 하지 않겠습니다.\n",
      "나는 수업 시간에 프로그래밍을 하지 않겠습니다.\n",
      "나는 수업 시간에 프로그래밍을 하지 않겠습니다.\n",
      "나는 수업 시간에 프로그래밍을 하지 않겠습니다.\n",
      "나는 수업 시간에 프로그래밍을 하지 않겠습니다.\n",
      "나는 수업 시간에 프로그래밍을 하지 않겠습니다.\n",
      "나는 수업 시간에 프로그래밍을 하지 않겠습니다.\n",
      "나는 수업 시간에 프로그래밍을 하지 않겠습니다.\n",
      "나는 수업 시간에 프로그래밍을 하지 않겠습니다.\n",
      "나는 수업 시간에 프로그래밍을 하지 않겠습니다.\n",
      "나는 수업 시간에 프로그래밍을 하지 않겠습니다.\n",
      "나는 수업 시간에 프로그래밍을 하지 않겠습니다.\n",
      "나는 수업 시간에 프로그래밍을 하지 않겠습니다.\n",
      "나는 수업 시간에 프로그래밍을 하지 않겠습니다.\n",
      "나는 수업 시간에 프로그래밍을 하지 않겠습니다.\n",
      "나는 수업 시간에 프로그래밍을 하지 않겠습니다.\n",
      "나는 수업 시간에 프로그래밍을 하지 않겠습니다.\n",
      "나는 수업 시간에 프로그래밍을 하지 않겠습니다.\n",
      "나는 수업 시간에 프로그래밍을 하지 않겠습니다.\n",
      "나는 수업 시간에 프로그래밍을 하지 않겠습니다.\n",
      "나는 수업 시간에 프로그래밍을 하지 않겠습니다.\n",
      "나는 수업 시간에 프로그래밍을 하지 않겠습니다.\n",
      "나는 수업 시간에 프로그래밍을 하지 않겠습니다.\n",
      "나는 수업 시간에 프로그래밍을 하지 않겠습니다.\n",
      "나는 수업 시간에 프로그래밍을 하지 않겠습니다.\n",
      "나는 수업 시간에 프로그래밍을 하지 않겠습니다.\n",
      "나는 수업 시간에 프로그래밍을 하지 않겠습니다.\n",
      "나는 수업 시간에 프로그래밍을 하지 않겠습니다.\n",
      "나는 수업 시간에 프로그래밍을 하지 않겠습니다.\n",
      "나는 수업 시간에 프로그래밍을 하지 않겠습니다.\n",
      "나는 수업 시간에 프로그래밍을 하지 않겠습니다.\n",
      "나는 수업 시간에 프로그래밍을 하지 않겠습니다.\n",
      "나는 수업 시간에 프로그래밍을 하지 않겠습니다.\n",
      "나는 수업 시간에 프로그래밍을 하지 않겠습니다.\n",
      "나는 수업 시간에 프로그래밍을 하지 않겠습니다.\n",
      "나는 수업 시간에 프로그래밍을 하지 않겠습니다.\n",
      "나는 수업 시간에 프로그래밍을 하지 않겠습니다.\n",
      "나는 수업 시간에 프로그래밍을 하지 않겠습니다.\n",
      "나는 수업 시간에 프로그래밍을 하지 않겠습니다.\n",
      "나는 수업 시간에 프로그래밍을 하지 않겠습니다.\n",
      "나는 수업 시간에 프로그래밍을 하지 않겠습니다.\n",
      "나는 수업 시간에 프로그래밍을 하지 않겠습니다.\n",
      "나는 수업 시간에 프로그래밍을 하지 않겠습니다.\n",
      "나는 수업 시간에 프로그래밍을 하지 않겠습니다.\n"
     ]
    }
   ],
   "source": [
    "lines=0\n",
    "while lines<50:\n",
    "    print(\"나는 수업 시간에 프로그래밍을 하지 않겠습니다.\")\n",
    "    lines=lines+1"
   ]
  },
  {
   "cell_type": "code",
   "execution_count": 7,
   "id": "e698819a",
   "metadata": {},
   "outputs": [
    {
     "name": "stdout",
     "output_type": "stream",
     "text": [
      "집에 가고 싶어.\n",
      "집에 가고 싶어.\n",
      "집에 가고 싶어.\n",
      "집에 가고 싶어.\n",
      "집에 가고 싶어.\n",
      "집에 가고 싶어.\n",
      "집에 가고 싶어.\n",
      "집에 가고 싶어.\n",
      "집에 가고 싶어.\n",
      "집에 가고 싶어.\n",
      "집에 가고 싶어.\n",
      "집에 가고 싶어.\n",
      "집에 가고 싶어.\n",
      "집에 가고 싶어.\n",
      "집에 가고 싶어.\n",
      "집에 가고 싶어.\n",
      "집에 가고 싶어.\n",
      "집에 가고 싶어.\n",
      "집에 가고 싶어.\n",
      "집에 가고 싶어.\n",
      "집에 가고 싶어.\n",
      "집에 가고 싶어.\n",
      "집에 가고 싶어.\n",
      "집에 가고 싶어.\n",
      "집에 가고 싶어.\n",
      "집에 가고 싶어.\n",
      "집에 가고 싶어.\n",
      "집에 가고 싶어.\n",
      "집에 가고 싶어.\n",
      "집에 가고 싶어.\n",
      "집에 가고 싶어.\n",
      "집에 가고 싶어.\n",
      "집에 가고 싶어.\n",
      "집에 가고 싶어.\n",
      "집에 가고 싶어.\n",
      "집에 가고 싶어.\n",
      "집에 가고 싶어.\n",
      "집에 가고 싶어.\n",
      "집에 가고 싶어.\n",
      "집에 가고 싶어.\n",
      "집에 가고 싶어.\n",
      "집에 가고 싶어.\n",
      "집에 가고 싶어.\n",
      "집에 가고 싶어.\n",
      "집에 가고 싶어.\n",
      "집에 가고 싶어.\n",
      "집에 가고 싶어.\n",
      "집에 가고 싶어.\n",
      "집에 가고 싶어.\n",
      "집에 가고 싶어.\n",
      "\n"
     ]
    }
   ],
   "source": [
    "print(\"집에 가고 싶어.\\n\"*50)"
   ]
  },
  {
   "cell_type": "code",
   "execution_count": 8,
   "id": "4d35be21",
   "metadata": {},
   "outputs": [
    {
     "name": "stdout",
     "output_type": "stream",
     "text": [
      "1\n",
      "2\n",
      "3\n",
      "4\n",
      "5\n",
      "6\n",
      "7\n",
      "8\n",
      "9\n",
      "10\n",
      "11\n",
      "12\n",
      "13\n",
      "14\n",
      "15\n",
      "16\n",
      "17\n",
      "18\n",
      "19\n",
      "20\n",
      "21\n",
      "22\n",
      "23\n",
      "24\n",
      "25\n",
      "26\n",
      "27\n",
      "28\n",
      "29\n",
      "30\n",
      "31\n",
      "32\n",
      "33\n",
      "34\n",
      "35\n",
      "36\n",
      "37\n",
      "38\n",
      "39\n",
      "40\n",
      "41\n",
      "42\n",
      "43\n",
      "44\n",
      "45\n",
      "46\n",
      "47\n",
      "48\n",
      "49\n",
      "50\n",
      "51\n",
      "52\n",
      "53\n",
      "54\n",
      "55\n",
      "56\n",
      "57\n",
      "58\n",
      "59\n",
      "60\n",
      "61\n",
      "62\n",
      "63\n",
      "64\n",
      "65\n",
      "66\n",
      "67\n",
      "68\n",
      "69\n",
      "70\n",
      "71\n",
      "72\n",
      "73\n",
      "74\n",
      "75\n",
      "76\n",
      "77\n",
      "78\n",
      "79\n",
      "80\n",
      "81\n",
      "82\n",
      "83\n",
      "84\n",
      "85\n",
      "86\n",
      "87\n",
      "88\n",
      "89\n",
      "90\n",
      "91\n",
      "92\n",
      "93\n",
      "94\n",
      "95\n",
      "96\n",
      "97\n",
      "98\n",
      "99\n",
      "100\n"
     ]
    }
   ],
   "source": [
    "number=1\n",
    "while number<101:\n",
    "    print(number)\n",
    "    number=number+1"
   ]
  },
  {
   "cell_type": "code",
   "execution_count": 9,
   "id": "54da9e68",
   "metadata": {},
   "outputs": [
    {
     "name": "stdout",
     "output_type": "stream",
     "text": [
      "11을 4로 나누면? 2.75 나머지는? 3\n"
     ]
    }
   ],
   "source": [
    "print(\"11을 4로 나누면?\",11/4, \"나머지는?\",11%4)"
   ]
  },
  {
   "cell_type": "code",
   "execution_count": 10,
   "id": "bb8c76c7",
   "metadata": {},
   "outputs": [
    {
     "name": "stdout",
     "output_type": "stream",
     "text": [
      "1 X 5=5\n",
      "2 X 5=10\n",
      "3 X 5=15\n",
      "4 X 5=20\n",
      "5 X 5=25\n",
      "6 X 5=30\n",
      "7 X 5=35\n",
      "8 X 5=40\n",
      "9 X 5=45\n"
     ]
    }
   ],
   "source": [
    "number=1\n",
    "while number <10:\n",
    "    print(number, \"X 5=%d\" %(number*5) )\n",
    "    number=number+1"
   ]
  },
  {
   "cell_type": "code",
   "execution_count": 11,
   "id": "0a9c2348",
   "metadata": {},
   "outputs": [
    {
     "name": "stdout",
     "output_type": "stream",
     "text": [
      "이름이 뭔가요?\n",
      "나비\n",
      "안녕 나비\n"
     ]
    }
   ],
   "source": [
    "NAME=input(\"이름이 뭔가요?\\n\")\n",
    "print(\"안녕\",NAME)"
   ]
  },
  {
   "cell_type": "code",
   "execution_count": 12,
   "id": "893b0923",
   "metadata": {},
   "outputs": [
    {
     "name": "stdout",
     "output_type": "stream",
     "text": [
      "mymagic8ball에 오신 것을 환영합니다.\n",
      "조언을 구하고 싶으면 질문을 입력하고 엔터 키를 누르세요.\n",
      "코딩 잘하는법\n",
      "고민중.....\n",
      "\n",
      "4\n",
      "모르니 두려운 것입니다.\n",
      "\n",
      "\n",
      "마치려면 엔터 키를 누르세요.\n"
     ]
    },
    {
     "data": {
      "text/plain": [
       "''"
      ]
     },
     "execution_count": 12,
     "metadata": {},
     "output_type": "execute_result"
    }
   ],
   "source": [
    "import random\n",
    "choice=random.randint(1,8)\n",
    "\n",
    "#답변을 입력해 봅시다\n",
    "ans1=\"자! 해보세요!\"\n",
    "ans2=\"됐네요, 이 사람아\"\n",
    "ans3=\"뭐라고? 다시 생각해보세요\"\n",
    "ans4=\"모르니 두려운 것입니다.\"\n",
    "ans5=\"칠푼인가요?? 제 정신이 아니군요! \"\n",
    "ans6=\"당신이라면 할 수 있어요!\"\n",
    "ans7=\"해도 그만, 안해도 그만, 아니겠어요?\"\n",
    "ans8=\"맞아요. 당신은 올바른 선택을 했어요.\"\n",
    "\n",
    "print(\"mymagic8ball에 오신 것을 환영합니다.\")\n",
    "\n",
    "question=input(\"조언을 구하고 싶으면 질문을 입력하고 엔터 키를 누르세요.\\n\")\n",
    "\n",
    "print(\"고민중.....\\n\")\n",
    "\n",
    "\n",
    "if choice==1:\n",
    "    answer=ans1\n",
    "elif choice==2:\n",
    "    answer=ans2\n",
    "elif choice==3:\n",
    "    answer=ans3\n",
    "elif choice==4:\n",
    "    answer=ans4\n",
    "elif choice==5:\n",
    "    answer=ans5\n",
    "elif choice==6:\n",
    "    answer=ans6\n",
    "elif choice==7:\n",
    "    answer=ans7\n",
    "else:\n",
    "    answer=ans8\n",
    "\n",
    "print(choice) \n",
    "print(answer)\n",
    "input(\"\\n\\n마치려면 엔터 키를 누르세요.\")"
   ]
  },
  {
   "cell_type": "code",
   "execution_count": 13,
   "id": "c818f5e9",
   "metadata": {},
   "outputs": [
    {
     "name": "stdout",
     "output_type": "stream",
     "text": [
      "28 x 149 = 4172\n"
     ]
    }
   ],
   "source": [
    "import random\n",
    "a=random.randint(1,99)\n",
    "b=random.randint(100,199)\n",
    "\n",
    "print(a ,\"x\" ,b, \"=\", a*b)"
   ]
  },
  {
   "cell_type": "code",
   "execution_count": 14,
   "id": "70ca1e5e",
   "metadata": {},
   "outputs": [
    {
     "name": "stdout",
     "output_type": "stream",
     "text": [
      "이름을 입력하세요나비\n",
      "나비 님, 다음 수업시간에 뵙겠습니다.\n"
     ]
    }
   ],
   "source": [
    "import random\n",
    "choice=random.randint(1,1)\n",
    "\n",
    "if choice==1:\n",
    "    answer=ans1\n",
    "    \n",
    "question=input(\"이름을 입력하세요\")\n",
    "print(question,\"님, 다음 수업시간에 뵙겠습니다.\")"
   ]
  },
  {
   "cell_type": "code",
   "execution_count": null,
   "id": "7157cc34",
   "metadata": {},
   "outputs": [],
   "source": []
  }
 ],
 "metadata": {
  "kernelspec": {
   "display_name": "Python 3 (ipykernel)",
   "language": "python",
   "name": "python3"
  },
  "language_info": {
   "codemirror_mode": {
    "name": "ipython",
    "version": 3
   },
   "file_extension": ".py",
   "mimetype": "text/x-python",
   "name": "python",
   "nbconvert_exporter": "python",
   "pygments_lexer": "ipython3",
   "version": "3.9.12"
  }
 },
 "nbformat": 4,
 "nbformat_minor": 5
}
