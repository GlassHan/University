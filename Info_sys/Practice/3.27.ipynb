{
 "cells": [
  {
   "cell_type": "code",
   "execution_count": 1,
   "id": "5cf0379c",
   "metadata": {},
   "outputs": [],
   "source": [
    "# mes\n",
    "\n",
    "from tkinter import *\n",
    "\n",
    "#### 변수 설정:\n",
    "c_h=400\n",
    "c_w=600\n",
    "c_c=\"black\"\n",
    "\n",
    "p1_x=c_w/2\n",
    "p1_y=c_h/2\n",
    "p1_colour=\"green\"\n",
    "\n",
    "line_width=5\n",
    "line_length=5\n",
    "\n",
    "#콘트롤\n",
    "def p1_move(x,y):\n",
    "    global p1_x\n",
    "    global p1_y\n",
    "    p1_new_x=p1_x+x\n",
    "    p1_new_y=p1_y+y\n",
    "    canvas.create_line(p1_x,p1_y,p1_new_x,p1_new_y,width=line_width,fill=p1_colour)\n",
    "    p1_x=p1_new_x\n",
    "    p1_y=p1_new_y\n",
    "    \n",
    "def p1_move_N(event):\n",
    "    p1_move(0, -line_length)\n",
    "\n",
    "def p2_move_S(event):\n",
    "    p1_move(0, line_length)\n",
    "\n",
    "def p3_move_E(event):\n",
    "    p1_move(line_length,0)\n",
    "    \n",
    "def p4_move_W(event):\n",
    "    p1_move(-line_length,0)\n",
    "    \n",
    "def erase_all(event):\n",
    "    canvas.delete(ALL)\n",
    "    \n",
    "    \n",
    "#### 메인:\n",
    "window=Tk()\n",
    "window.title(\"mes\")\n",
    "canvas=Canvas(bg=c_c,height=c_h,width=c_w,highlightthickness=0)\n",
    "canvas.pack()\n",
    "\n",
    "#키를 눌렀을때\n",
    "window.bind(\"<Up>\",p1_move_N)\n",
    "window.bind(\"<Down>\",p2_move_S)\n",
    "window.bind(\"<Right>\",p3_move_E)\n",
    "window.bind(\"<Left>\",p4_move_W)\n",
    "window.bind(\"e\",erase_all)\n",
    "window.mainloop()"
   ]
  },
  {
   "cell_type": "code",
   "execution_count": 2,
   "id": "bc25f61c",
   "metadata": {},
   "outputs": [
    {
     "name": "stdout",
     "output_type": "stream",
     "text": [
      "two\n"
     ]
    }
   ],
   "source": [
    "my_tuple=(\"one\",\"two\",\"three\",\"four\")\n",
    "print(my_tuple[1])"
   ]
  },
  {
   "cell_type": "code",
   "execution_count": 3,
   "id": "d7792f2b",
   "metadata": {},
   "outputs": [
    {
     "name": "stdout",
     "output_type": "stream",
     "text": [
      "mymagic8ball에 오신 것을 환영합니다.\n",
      "조언을 구하고 싶으면 질문을 입력하고 엔터 키를 누르세요.\n",
      "글쎄요\n",
      "고민중.....\n",
      "\n",
      "칠푼인가요?? 제 정신이 아니군요! \n",
      "\n",
      "\n",
      "마치려면 엔터 키를 누르세요.\n"
     ]
    },
    {
     "data": {
      "text/plain": [
       "''"
      ]
     },
     "execution_count": 3,
     "metadata": {},
     "output_type": "execute_result"
    }
   ],
   "source": [
    "import random\n",
    "\n",
    "\n",
    "#답변을 입력해 봅시다\n",
    "answers=(\n",
    "\"자! 해보세요!\",\n",
    "\"됐네요, 이 사람아\",\n",
    "\"뭐라고? 다시 생각해보세요\",\n",
    "\"모르니 두려운 것입니다.\",\n",
    "\"칠푼인가요?? 제 정신이 아니군요! \",\n",
    "\"당신이라면 할 수 있어요!\",\n",
    "\"해도 그만, 안해도 그만, 아니겠어요?\",\n",
    "\"맞아요. 당신은 올바른 선택을 했어요.\"\n",
    ")\n",
    "\n",
    "print(\"mymagic8ball에 오신 것을 환영합니다.\")\n",
    "\n",
    "question=input(\"조언을 구하고 싶으면 질문을 입력하고 엔터 키를 누르세요.\\n\")\n",
    "\n",
    "print(\"고민중.....\\n\")\n",
    "\n",
    "choice=random.randint(0,7)\n",
    "print(answers[choice])\n",
    "\n",
    "\n",
    "input(\"\\n\\n마치려면 엔터 키를 누르세요.\")"
   ]
  },
  {
   "cell_type": "code",
   "execution_count": 4,
   "id": "153851c2",
   "metadata": {},
   "outputs": [
    {
     "name": "stdout",
     "output_type": "stream",
     "text": [
      "몇번째 색을 알고 싶습니까?5\n",
      "무지개의 5 번째 색은 dark blue 입니다\n"
     ]
    }
   ],
   "source": [
    "rainbow=(\"red\",\"orange\",\"yellow\",\"green\",\"blue\",\"dark blue\",\"puple\")\n",
    "d=int(input(\"몇번째 색을 알고 싶습니까?\"))\n",
    "choice=rainbow[d]\n",
    "print(\"무지개의\",d,\"번째 색은\",choice,\"입니다\")"
   ]
  },
  {
   "cell_type": "code",
   "execution_count": null,
   "id": "dd0ca11e",
   "metadata": {},
   "outputs": [],
   "source": []
  }
 ],
 "metadata": {
  "kernelspec": {
   "display_name": "Python 3 (ipykernel)",
   "language": "python",
   "name": "python3"
  },
  "language_info": {
   "codemirror_mode": {
    "name": "ipython",
    "version": 3
   },
   "file_extension": ".py",
   "mimetype": "text/x-python",
   "name": "python",
   "nbconvert_exporter": "python",
   "pygments_lexer": "ipython3",
   "version": "3.9.12"
  }
 },
 "nbformat": 4,
 "nbformat_minor": 5
}
