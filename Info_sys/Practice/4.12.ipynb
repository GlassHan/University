{
 "cells": [
  {
   "cell_type": "code",
   "execution_count": 1,
   "id": "2c077db3",
   "metadata": {},
   "outputs": [
    {
     "name": "stdout",
     "output_type": "stream",
     "text": [
      "3\n"
     ]
    }
   ],
   "source": [
    "list=[1,2,3,4,5,6,7,8,9]\n",
    "for i in list:\n",
    "    if i%3==0:\n",
    "        print(i)\n",
    "        break"
   ]
  },
  {
   "cell_type": "code",
   "execution_count": 2,
   "id": "0547a82e",
   "metadata": {},
   "outputs": [
    {
     "name": "stdout",
     "output_type": "stream",
     "text": [
      "1\n",
      "3\n",
      "5\n",
      "7\n",
      "9\n"
     ]
    }
   ],
   "source": [
    "list=[1,2,3,4,5,6,7,8,9]\n",
    "for i in list:\n",
    "    if i%2!=0:\n",
    "        print(i)"
   ]
  },
  {
   "cell_type": "code",
   "execution_count": 3,
   "id": "9034cd2b",
   "metadata": {},
   "outputs": [
    {
     "name": "stdout",
     "output_type": "stream",
     "text": [
      "1\n",
      "3\n",
      "5\n",
      "7\n",
      "9\n"
     ]
    }
   ],
   "source": [
    "list=[1,2,3,4,5,6,7,8,9]\n",
    "for i in list:\n",
    "    if i%2==0:\n",
    "        continue\n",
    "    print(i)"
   ]
  },
  {
   "cell_type": "code",
   "execution_count": 4,
   "id": "fbbfb320",
   "metadata": {},
   "outputs": [
    {
     "name": "stdout",
     "output_type": "stream",
     "text": [
      "24\n"
     ]
    }
   ],
   "source": [
    "for i in range(20,100):\n",
    "    if i%8==0:\n",
    "        print(i)\n",
    "        break"
   ]
  },
  {
   "cell_type": "code",
   "execution_count": 5,
   "id": "627c31cf",
   "metadata": {},
   "outputs": [
    {
     "name": "stdout",
     "output_type": "stream",
     "text": [
      "24\n",
      "30\n",
      "36\n",
      "42\n",
      "48\n",
      "54\n",
      "60\n",
      "66\n",
      "72\n",
      "78\n",
      "84\n",
      "90\n",
      "96\n"
     ]
    }
   ],
   "source": [
    "for i in range(20,100):\n",
    "    if i%6!=0:\n",
    "        continue\n",
    "    print(i)"
   ]
  },
  {
   "cell_type": "code",
   "execution_count": 6,
   "id": "f0ecb53e",
   "metadata": {},
   "outputs": [
    {
     "name": "stdout",
     "output_type": "stream",
     "text": [
      "100%는 숫자가 아니네요.\n"
     ]
    }
   ],
   "source": [
    "text='100%'\n",
    "try:\n",
    "    number=int(text)\n",
    "except ValueError:\n",
    "    print('{}는 숫자가 아니네요.'. format(text))"
   ]
  },
  {
   "cell_type": "code",
   "execution_count": 7,
   "id": "5ec3b599",
   "metadata": {},
   "outputs": [
    {
     "name": "stdout",
     "output_type": "stream",
     "text": [
      "100%는 숫자가 아니네요.\n"
     ]
    }
   ],
   "source": [
    "text='100%'\n",
    "try:\n",
    "    number=int(text)\n",
    "except ValueError:\n",
    "    print('%s는 숫자가 아니네요.' %text)"
   ]
  },
  {
   "cell_type": "code",
   "execution_count": 8,
   "id": "7af91b90",
   "metadata": {},
   "outputs": [
    {
     "name": "stdout",
     "output_type": "stream",
     "text": [
      "Not divided by 0\n",
      "10.0\n",
      "5.0\n",
      "3.3333333333333335\n",
      "2.5\n",
      "2.0\n",
      "1.6666666666666667\n",
      "1.4285714285714286\n",
      "1.25\n",
      "1.1111111111111112\n"
     ]
    }
   ],
   "source": [
    "for i in range(10):\n",
    "    try:\n",
    "        result=10/i\n",
    "    except ZeroDivisionError:\n",
    "        print(\"Not divided by 0\")\n",
    "    else:\n",
    "        print(10/i)"
   ]
  },
  {
   "cell_type": "code",
   "execution_count": 9,
   "id": "7d66b5a2",
   "metadata": {},
   "outputs": [
    {
     "name": "stdout",
     "output_type": "stream",
     "text": [
      "error가 발생했습니다\n"
     ]
    }
   ],
   "source": [
    "try:\n",
    "    a=10/0\n",
    "except:\n",
    "    print('error가 발생했습니다')"
   ]
  },
  {
   "cell_type": "code",
   "execution_count": 10,
   "id": "4914b3a0",
   "metadata": {},
   "outputs": [
    {
     "name": "stdout",
     "output_type": "stream",
     "text": [
      "error가 발생했습니다. division by zero\n"
     ]
    }
   ],
   "source": [
    "try:\n",
    "    a=10/0\n",
    "except Exception as ex:\n",
    "    print('error가 발생했습니다.',ex)"
   ]
  },
  {
   "cell_type": "code",
   "execution_count": 11,
   "id": "7c976d2a",
   "metadata": {},
   "outputs": [
    {
     "name": "stdout",
     "output_type": "stream",
     "text": [
      "error가 발생했습니다\n",
      "종료되었습니다.\n"
     ]
    }
   ],
   "source": [
    "try:\n",
    "    a=10/0\n",
    "except:\n",
    "    print('error가 발생했습니다')\n",
    "finally:\n",
    "    print('종료되었습니다.')"
   ]
  },
  {
   "cell_type": "code",
   "execution_count": 12,
   "id": "85cc9280",
   "metadata": {},
   "outputs": [],
   "source": [
    "try:\n",
    "    a=10/0\n",
    "except:\n",
    "    pass"
   ]
  },
  {
   "cell_type": "code",
   "execution_count": 13,
   "id": "cb9161c3",
   "metadata": {},
   "outputs": [],
   "source": [
    "def check(a):\n",
    "    allowed=['가위','바위']"
   ]
  },
  {
   "cell_type": "code",
   "execution_count": 14,
   "id": "1119bad2",
   "metadata": {},
   "outputs": [],
   "source": [
    "try:\n",
    "    check('보')\n",
    "except:\n",
    "    print('리스트에 없는 목록입니다.')"
   ]
  },
  {
   "cell_type": "code",
   "execution_count": 15,
   "id": "b50d4cc6",
   "metadata": {},
   "outputs": [],
   "source": [
    "def check(a):\n",
    "    allowed=['가위','바위']\n",
    "    if a not in allowed:\n",
    "        raise ValueError\n",
    "        "
   ]
  },
  {
   "cell_type": "code",
   "execution_count": 16,
   "id": "9a04ae23",
   "metadata": {},
   "outputs": [
    {
     "name": "stdout",
     "output_type": "stream",
     "text": [
      "리스트에 없는 목록입니다.\n"
     ]
    }
   ],
   "source": [
    "try:\n",
    "    check('보')\n",
    "except ValueError:\n",
    "    print('리스트에 없는 목록입니다.')"
   ]
  },
  {
   "cell_type": "code",
   "execution_count": 17,
   "id": "144cb83c",
   "metadata": {},
   "outputs": [
    {
     "name": "stdout",
     "output_type": "stream",
     "text": [
      "숫자를 입력하시오ㄴ\n",
      "ㄴ는 숫자가 아니네요\n"
     ]
    }
   ],
   "source": [
    "a=input('숫자를 입력하시오')\n",
    "try:\n",
    "    number=int(a)\n",
    "except ValueError:\n",
    "    print('%s는 숫자가 아니네요'%a)"
   ]
  },
  {
   "cell_type": "code",
   "execution_count": 18,
   "id": "6018dd99",
   "metadata": {},
   "outputs": [
    {
     "name": "stdout",
     "output_type": "stream",
     "text": [
      "error가 발생했습니다. can only concatenate str (not \"int\") to str\n"
     ]
    }
   ],
   "source": [
    "try:\n",
    "    a='abc'\n",
    "    b=123 \n",
    "    c=a+b\n",
    "except Exception as ex:\n",
    "    print('error가 발생했습니다.',ex)"
   ]
  },
  {
   "cell_type": "code",
   "execution_count": null,
   "id": "2e887bee",
   "metadata": {},
   "outputs": [],
   "source": []
  }
 ],
 "metadata": {
  "kernelspec": {
   "display_name": "Python 3 (ipykernel)",
   "language": "python",
   "name": "python3"
  },
  "language_info": {
   "codemirror_mode": {
    "name": "ipython",
    "version": 3
   },
   "file_extension": ".py",
   "mimetype": "text/x-python",
   "name": "python",
   "nbconvert_exporter": "python",
   "pygments_lexer": "ipython3",
   "version": "3.9.12"
  }
 },
 "nbformat": 4,
 "nbformat_minor": 5
}
