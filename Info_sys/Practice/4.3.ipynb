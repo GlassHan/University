{
 "cells": [
  {
   "cell_type": "code",
   "execution_count": 1,
   "id": "85a15e86",
   "metadata": {},
   "outputs": [
    {
     "name": "stdout",
     "output_type": "stream",
     "text": [
      "[1, 4, 9, 16, 25, 36, 49, 64, 81]\n"
     ]
    }
   ],
   "source": [
    "squares=[]\n",
    "for i in range(1,10):\n",
    "    squares=squares+[i*i]\n",
    "print(squares)"
   ]
  },
  {
   "cell_type": "code",
   "execution_count": 2,
   "id": "4120aaea",
   "metadata": {},
   "outputs": [
    {
     "name": "stdout",
     "output_type": "stream",
     "text": [
      "[1, 4, 9, 16, 25, 36, 49, 64, 81]\n"
     ]
    }
   ],
   "source": [
    "squars2=[]\n",
    "squars2=[i*i for i in range(1,10)]\n",
    "print(squars2)"
   ]
  },
  {
   "cell_type": "code",
   "execution_count": 3,
   "id": "018c40f5",
   "metadata": {},
   "outputs": [
    {
     "name": "stdout",
     "output_type": "stream",
     "text": [
      "[4, 16, 36, 64]\n"
     ]
    }
   ],
   "source": [
    "squares3=[]\n",
    "for i in range(1,10):\n",
    "    if i%2==0:\n",
    "        squares3=squares3+[i*i]\n",
    "print(squares3)"
   ]
  },
  {
   "cell_type": "code",
   "execution_count": 4,
   "id": "9300dab8",
   "metadata": {},
   "outputs": [
    {
     "name": "stdout",
     "output_type": "stream",
     "text": [
      "[4, 16, 36, 64]\n"
     ]
    }
   ],
   "source": [
    "squares4=[]\n",
    "squares4=[i*i for i in range(1,10) if i%2==0]\n",
    "print(squares4)"
   ]
  },
  {
   "cell_type": "code",
   "execution_count": 5,
   "id": "6eb1919b",
   "metadata": {},
   "outputs": [
    {
     "name": "stdout",
     "output_type": "stream",
     "text": [
      "[(1, 1), (1, 2), (1, 3), (1, 4), (1, 5), (1, 6), (1, 7), (1, 8), (1, 9), (1, 10), (2, 1), (2, 2), (2, 3), (2, 4), (2, 5), (2, 6), (2, 7), (2, 8), (2, 9), (2, 10), (3, 1), (3, 2), (3, 3), (3, 4), (3, 5), (3, 6), (3, 7), (3, 8), (3, 9), (3, 10), (4, 1), (4, 2), (4, 3), (4, 4), (4, 5), (4, 6), (4, 7), (4, 8), (4, 9), (4, 10), (5, 1), (5, 2), (5, 3), (5, 4), (5, 5), (5, 6), (5, 7), (5, 8), (5, 9), (5, 10), (6, 1), (6, 2), (6, 3), (6, 4), (6, 5), (6, 6), (6, 7), (6, 8), (6, 9), (6, 10), (7, 1), (7, 2), (7, 3), (7, 4), (7, 5), (7, 6), (7, 7), (7, 8), (7, 9), (7, 10), (8, 1), (8, 2), (8, 3), (8, 4), (8, 5), (8, 6), (8, 7), (8, 8), (8, 9), (8, 10), (9, 1), (9, 2), (9, 3), (9, 4), (9, 5), (9, 6), (9, 7), (9, 8), (9, 9), (9, 10), (10, 1), (10, 2), (10, 3), (10, 4), (10, 5), (10, 6), (10, 7), (10, 8), (10, 9), (10, 10)]\n"
     ]
    }
   ],
   "source": [
    "squares5=[]\n",
    "squares5=[(x,y) for x in range(1,11) for y in range(1,11)]\n",
    "print(squares5)"
   ]
  },
  {
   "cell_type": "code",
   "execution_count": 6,
   "id": "d35c418a",
   "metadata": {},
   "outputs": [
    {
     "name": "stdout",
     "output_type": "stream",
     "text": [
      "[(2, 2), (2, 4), (2, 6), (2, 8), (2, 10), (4, 2), (4, 4), (4, 6), (4, 8), (4, 10), (6, 2), (6, 4), (6, 6), (6, 8), (6, 10), (8, 2), (8, 4), (8, 6), (8, 8), (8, 10), (10, 2), (10, 4), (10, 6), (10, 8), (10, 10)]\n"
     ]
    }
   ],
   "source": [
    "squares6=[]\n",
    "squares6=[(x,y) for x in range(1,11) if x%2==0 for y in range(1,11) if y%2==0]\n",
    "print(squares6)"
   ]
  },
  {
   "cell_type": "code",
   "execution_count": 7,
   "id": "88d737ea",
   "metadata": {},
   "outputs": [
    {
     "name": "stdout",
     "output_type": "stream",
     "text": [
      "[(2, 2), (2, 4), (2, 6), (2, 8), (2, 10), (4, 2), (4, 4), (4, 6), (4, 8), (4, 10), (6, 2), (6, 4), (6, 6), (6, 8), (6, 10), (8, 2), (8, 4), (8, 6), (8, 8), (8, 10), (10, 2), (10, 4), (10, 6), (10, 8), (10, 10)]\n"
     ]
    }
   ],
   "source": [
    "squares7=[]\n",
    "squares7=[(x,y) for x in range(1,11) for y in range(1,11) if x%2==0 if y%2==0]\n",
    "print(squares7)"
   ]
  },
  {
   "cell_type": "code",
   "execution_count": 8,
   "id": "649b0eb8",
   "metadata": {},
   "outputs": [
    {
     "data": {
      "text/plain": [
       "[(1, 4), (2, 5), (3, 6)]"
      ]
     },
     "execution_count": 8,
     "metadata": {},
     "output_type": "execute_result"
    }
   ],
   "source": [
    "list(zip([1,2,3],[4,5,6]))"
   ]
  },
  {
   "cell_type": "code",
   "execution_count": 9,
   "id": "19aecba2",
   "metadata": {},
   "outputs": [
    {
     "data": {
      "text/plain": [
       "[('a', 'd'), ('b', 'e'), ('c', 'f')]"
      ]
     },
     "execution_count": 9,
     "metadata": {},
     "output_type": "execute_result"
    }
   ],
   "source": [
    "list(zip(\"abc\",\"def\"))"
   ]
  },
  {
   "cell_type": "code",
   "execution_count": 10,
   "id": "032a5ab7",
   "metadata": {},
   "outputs": [
    {
     "ename": "SyntaxError",
     "evalue": "invalid syntax (3641743281.py, line 1)",
     "output_type": "error",
     "traceback": [
      "\u001b[1;36m  Input \u001b[1;32mIn [10]\u001b[1;36m\u001b[0m\n\u001b[1;33m    for i, name is enumaerate(['body','foo','bar']):\u001b[0m\n\u001b[1;37m                                                   ^\u001b[0m\n\u001b[1;31mSyntaxError\u001b[0m\u001b[1;31m:\u001b[0m invalid syntax\n"
     ]
    }
   ],
   "source": [
    "for i, name is enumaerate(['body','foo','bar']):\n",
    "    print(i,name)"
   ]
  },
  {
   "cell_type": "code",
   "execution_count": 11,
   "id": "63735953",
   "metadata": {},
   "outputs": [
    {
     "name": "stdout",
     "output_type": "stream",
     "text": [
      "{'진구': 97}\n"
     ]
    }
   ],
   "source": [
    "stu=[\"송혜교\",\"송중기\",\"김지원\",\"진구\"]\n",
    "scores=[98,94,96,97]\n",
    "for name, score in zip(stu,scores):\n",
    "    table={name:score}\n",
    "print(table)"
   ]
  },
  {
   "cell_type": "code",
   "execution_count": 12,
   "id": "5518ff44",
   "metadata": {},
   "outputs": [
    {
     "name": "stdout",
     "output_type": "stream",
     "text": [
      "{'송혜교': 98}\n",
      "{'송중기': 94}\n",
      "{'김지원': 96}\n",
      "{'진구': 97}\n"
     ]
    }
   ],
   "source": [
    "for name, score in zip(stu,scores):\n",
    "    table={name:score}\n",
    "    print(table)"
   ]
  },
  {
   "cell_type": "code",
   "execution_count": 13,
   "id": "9a77851c",
   "metadata": {},
   "outputs": [
    {
     "name": "stdout",
     "output_type": "stream",
     "text": [
      "{'송혜교': 98, '송중기': 94, '김지원': 96, '진구': 97}\n"
     ]
    }
   ],
   "source": [
    "score_table={name:score for name, score in zip(stu,scores)}\n",
    "print(score_table)"
   ]
  },
  {
   "cell_type": "code",
   "execution_count": 14,
   "id": "4c0201ef",
   "metadata": {},
   "outputs": [
    {
     "name": "stdout",
     "output_type": "stream",
     "text": [
      "{'컴퓨터': 10000, '마우스': 500, '키보드': 200}\n"
     ]
    }
   ],
   "source": [
    "items=[\"컴퓨터\",\"마우스\",\"키보드\"]\n",
    "price=[10000,500,200]\n",
    "idic={items:price for items, price in zip(items,price)}\n",
    "print(idic)"
   ]
  },
  {
   "cell_type": "code",
   "execution_count": 15,
   "id": "35ccba16",
   "metadata": {},
   "outputs": [
    {
     "name": "stdout",
     "output_type": "stream",
     "text": [
      "101\n"
     ]
    }
   ],
   "source": [
    "stu=[\"송혜교\",\"송중기\",\"김지원\",\"진구\"]\n",
    "scores=[100,101,102,103]\n",
    "for name, score in zip(stu,scores):\n",
    "    table={name:score}\n",
    "print(101)"
   ]
  }
 ],
 "metadata": {
  "kernelspec": {
   "display_name": "Python 3 (ipykernel)",
   "language": "python",
   "name": "python3"
  },
  "language_info": {
   "codemirror_mode": {
    "name": "ipython",
    "version": 3
   },
   "file_extension": ".py",
   "mimetype": "text/x-python",
   "name": "python",
   "nbconvert_exporter": "python",
   "pygments_lexer": "ipython3",
   "version": "3.9.12"
  }
 },
 "nbformat": 4,
 "nbformat_minor": 5
}
