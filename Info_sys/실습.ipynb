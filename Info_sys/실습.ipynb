{
 "cells": [
  {
   "cell_type": "code",
   "execution_count": 4,
   "metadata": {
    "collapsed": false
   },
   "outputs": [],
   "source": [
    "def count(number):\n",
    "    n=1\n",
    "    while n<=number:\n",
    "        print(n)\n",
    "        n=n+1"
   ]
  },
  {
   "cell_type": "code",
   "execution_count": 5,
   "metadata": {
    "collapsed": false
   },
   "outputs": [
    {
     "name": "stdout",
     "output_type": "stream",
     "text": [
      "1\n",
      "2\n",
      "3\n",
      "4\n",
      "5\n"
     ]
    }
   ],
   "source": [
    "count(5)"
   ]
  },
  {
   "cell_type": "code",
   "execution_count": 6,
   "metadata": {
    "collapsed": true
   },
   "outputs": [],
   "source": [
    "def times_tables(num):\n",
    "    n=1\n",
    "    while n<=10:\n",
    "        print(\"%s X %s = %s\" %(num,n,num*n))\n",
    "        n=n+1"
   ]
  },
  {
   "cell_type": "code",
   "execution_count": 7,
   "metadata": {
    "collapsed": false
   },
   "outputs": [
    {
     "name": "stdout",
     "output_type": "stream",
     "text": [
      "12 X 1 = 12\n",
      "12 X 2 = 24\n",
      "12 X 3 = 36\n",
      "12 X 4 = 48\n",
      "12 X 5 = 60\n",
      "12 X 6 = 72\n",
      "12 X 7 = 84\n",
      "12 X 8 = 96\n",
      "12 X 9 = 108\n",
      "12 X 10 = 120\n"
     ]
    }
   ],
   "source": [
    "times_tables(12)"
   ]
  },
  {
   "cell_type": "code",
   "execution_count": 8,
   "metadata": {
    "collapsed": true
   },
   "outputs": [],
   "source": [
    "def times_tables2(how_far,num):\n",
    "    n=1\n",
    "    while n<=how_far:\n",
    "        print(\"%s X %s = %s\" %(num,n,num*n))\n",
    "        n=n+1"
   ]
  },
  {
   "cell_type": "code",
   "execution_count": 9,
   "metadata": {
    "collapsed": false
   },
   "outputs": [
    {
     "name": "stdout",
     "output_type": "stream",
     "text": [
      "17 X 1 = 17\n",
      "17 X 2 = 34\n",
      "17 X 3 = 51\n",
      "17 X 4 = 68\n",
      "17 X 5 = 85\n",
      "17 X 6 = 102\n",
      "17 X 7 = 119\n",
      "17 X 8 = 136\n",
      "17 X 9 = 153\n",
      "17 X 10 = 170\n",
      "17 X 11 = 187\n",
      "17 X 12 = 204\n"
     ]
    }
   ],
   "source": [
    "times_tables2(12,17)"
   ]
  },
  {
   "cell_type": "code",
   "execution_count": 13,
   "metadata": {
    "collapsed": false
   },
   "outputs": [
    {
     "name": "stdout",
     "output_type": "stream",
     "text": [
      "몇단을 출력할까요?\n",
      "12\n",
      "어디까지 출력 할까요?\n",
      "15\n",
      "12 X 1 = 12\n",
      "12 X 2 = 24\n",
      "12 X 3 = 36\n",
      "12 X 4 = 48\n",
      "12 X 5 = 60\n",
      "12 X 6 = 72\n",
      "12 X 7 = 84\n",
      "12 X 8 = 96\n",
      "12 X 9 = 108\n",
      "12 X 10 = 120\n",
      "12 X 11 = 132\n",
      "12 X 12 = 144\n",
      "12 X 13 = 156\n",
      "12 X 14 = 168\n",
      "12 X 15 = 180\n"
     ]
    }
   ],
   "source": [
    "num=int(input(\"몇단을 출력할까요?\\n\"))\n",
    "how_far=int(input(\"어디까지 출력 할까요?\\n\"))\n",
    "def times_tables3(how_far,num):    \n",
    "    n=1\n",
    "    while n<=how_far:\n",
    "        print(\"%s X %s = %s\" %(num,n,num*n))\n",
    "        n=n+1\n",
    "times_tables3(how_far,num)"
   ]
  },
  {
   "cell_type": "code",
   "execution_count": null,
   "metadata": {
    "collapsed": false
   },
   "outputs": [
    {
     "name": "stdout",
     "output_type": "stream",
     "text": [
      "안녕!\n",
      " 난 1부터 100 중 숫자 하나를 골랐어요!\n",
      "뭔지 쓰고 엔터 키를 누르세요.50\n",
      "그것 보단 높습니다. 다시 생각해보세요.60\n",
      "그것 보단 낮습니다. 다시 생각해보세요.55\n",
      "그것 보단 낮습니다. 다시 생각해보세요.54\n",
      "그것 보단 낮습니다. 다시 생각해보세요.53\n",
      "그것 보단 낮습니다. 다시 생각해보세요.52\n"
     ]
    }
   ],
   "source": [
    "import random\n",
    "\n",
    "#숫자고르기\n",
    "computer_number=random.randint(1,100)\n",
    "\n",
    "#is_same()함수\n",
    "def is_same(target,number):\n",
    "    if target == number:\n",
    "        result=\"win\"\n",
    "    elif target > number:\n",
    "        result=\"low\"\n",
    "    else:\n",
    "        result=\"high\"\n",
    "    return result\n",
    "\n",
    "#게임시작\n",
    "print(\"안녕!\\n 난 1부터 100 중 숫자 하나를 골랐어요!\")\n",
    "\n",
    "#추측한 숫자 인수 변환\n",
    "guess=int(input(\"뭔지 쓰고 엔터 키를 누르세요.\"))\n",
    "\n",
    "#in_smae()함수 사용\n",
    "h_o_l=is_same(computer_number,guess)\n",
    "\n",
    "#게임 계속\n",
    "while h_o_l != \"win\":\n",
    "    if h_o_l == \"low\":\n",
    "        guess=int(input(\"그것 보단 높습니다. 다시 생각해보세요.\"))\n",
    "    else:\n",
    "        guess=int(input(\"그것 보단 낮습니다. 다시 생각해보세요.\"))\n",
    "        \n",
    "    h_o_l=is_same(computer_number,guess)\n",
    "\n",
    "    \n",
    "#끝\n",
    "input(\"정답!\\n잘했어요! \\n\\n\\n마치려면 엔터 키를 누르세요!\")"
   ]
  },
  {
   "cell_type": "code",
   "execution_count": null,
   "metadata": {
    "collapsed": true
   },
   "outputs": [],
   "source": []
  }
 ],
 "metadata": {
  "kernelspec": {
   "display_name": "Python 3",
   "language": "python",
   "name": "python3"
  },
  "language_info": {
   "codemirror_mode": {
    "name": "ipython",
    "version": 3
   },
   "file_extension": ".py",
   "mimetype": "text/x-python",
   "name": "python",
   "nbconvert_exporter": "python",
   "pygments_lexer": "ipython3",
   "version": "3.6.0"
  }
 },
 "nbformat": 4,
 "nbformat_minor": 2
}
